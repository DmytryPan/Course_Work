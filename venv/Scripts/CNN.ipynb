{
 "cells": [
  {
   "cell_type": "code",
   "execution_count": null,
   "id": "2559b04a-3402-4922-880c-2fee727c5f05",
   "metadata": {},
   "outputs": [],
   "source": []
  },
  {
   "cell_type": "code",
   "execution_count": 1,
   "id": "5ccbee53-f71f-4382-8bfc-68a16b34bee5",
   "metadata": {},
   "outputs": [],
   "source": [
    "import os \n",
    "import pandas as pd\n",
    "import numpy as np\n",
    "\n",
    "import tensorflow as tf\n",
    "from tensorflow import keras\n",
    "from keras import layers\n",
    "from sklearn.model_selection import train_test_split\n",
    "\n",
    "import seaborn as sns\n",
    "import matplotlib.pyplot as plt\n",
    "\n",
    "import cv2\n",
    "from PIL import Image\n",
    "\n",
    "from tqdm.notebook import tqdm\n",
    "import time\n",
    "\n",
    "tqdm.pandas()\n",
    "\n",
    "plt.rcParams[\"font.family\"] = \"Times New Roman\"\n",
    "plt.rc('xtick',labelsize=14)\n",
    "plt.rc('ytick',labelsize=14)\n",
    "\n",
    "\n",
    "#os.environ['CUDA_VISIBLE_DEVICES'] = '0'\n",
    "#tf.config.threading.set_intra_op_parallelism_threads(num_threads=10)"
   ]
  },
  {
   "cell_type": "code",
   "execution_count": 2,
   "id": "8f2d0b73-dda1-40ac-806a-67bd5e7023f7",
   "metadata": {},
   "outputs": [
    {
     "data": {
      "text/plain": [
       "[PhysicalDevice(name='/physical_device:CPU:0', device_type='CPU'),\n",
       " PhysicalDevice(name='/physical_device:GPU:0', device_type='GPU')]"
      ]
     },
     "execution_count": 2,
     "metadata": {},
     "output_type": "execute_result"
    }
   ],
   "source": [
    "tf.config.get_visible_devices()"
   ]
  },
  {
   "cell_type": "code",
   "execution_count": 2,
   "id": "680a613f-d05d-4f21-bd1e-e8cb7de3c48e",
   "metadata": {},
   "outputs": [
    {
     "data": {
      "text/html": [
       "<div>\n",
       "<style scoped>\n",
       "    .dataframe tbody tr th:only-of-type {\n",
       "        vertical-align: middle;\n",
       "    }\n",
       "\n",
       "    .dataframe tbody tr th {\n",
       "        vertical-align: top;\n",
       "    }\n",
       "\n",
       "    .dataframe thead th {\n",
       "        text-align: right;\n",
       "    }\n",
       "</style>\n",
       "<table border=\"1\" class=\"dataframe\">\n",
       "  <thead>\n",
       "    <tr style=\"text-align: right;\">\n",
       "      <th></th>\n",
       "      <th>Id</th>\n",
       "      <th>Pawpularity</th>\n",
       "      <th>path</th>\n",
       "    </tr>\n",
       "  </thead>\n",
       "  <tbody>\n",
       "    <tr>\n",
       "      <th>0</th>\n",
       "      <td>0007de18844b0dbbb5e1f607da0606e0</td>\n",
       "      <td>63</td>\n",
       "      <td>data/train/0007de18844b0dbbb5e1f607da0606e0.jpg</td>\n",
       "    </tr>\n",
       "    <tr>\n",
       "      <th>1</th>\n",
       "      <td>0009c66b9439883ba2750fb825e1d7db</td>\n",
       "      <td>42</td>\n",
       "      <td>data/train/0009c66b9439883ba2750fb825e1d7db.jpg</td>\n",
       "    </tr>\n",
       "    <tr>\n",
       "      <th>2</th>\n",
       "      <td>0013fd999caf9a3efe1352ca1b0d937e</td>\n",
       "      <td>28</td>\n",
       "      <td>data/train/0013fd999caf9a3efe1352ca1b0d937e.jpg</td>\n",
       "    </tr>\n",
       "    <tr>\n",
       "      <th>3</th>\n",
       "      <td>0018df346ac9c1d8413cfcc888ca8246</td>\n",
       "      <td>15</td>\n",
       "      <td>data/train/0018df346ac9c1d8413cfcc888ca8246.jpg</td>\n",
       "    </tr>\n",
       "    <tr>\n",
       "      <th>4</th>\n",
       "      <td>001dc955e10590d3ca4673f034feeef2</td>\n",
       "      <td>72</td>\n",
       "      <td>data/train/001dc955e10590d3ca4673f034feeef2.jpg</td>\n",
       "    </tr>\n",
       "    <tr>\n",
       "      <th>...</th>\n",
       "      <td>...</td>\n",
       "      <td>...</td>\n",
       "      <td>...</td>\n",
       "    </tr>\n",
       "    <tr>\n",
       "      <th>9851</th>\n",
       "      <td>ffbfa0383c34dc513c95560d6e1fdb57</td>\n",
       "      <td>15</td>\n",
       "      <td>data/train/ffbfa0383c34dc513c95560d6e1fdb57.jpg</td>\n",
       "    </tr>\n",
       "    <tr>\n",
       "      <th>9852</th>\n",
       "      <td>ffcc8532d76436fc79e50eb2e5238e45</td>\n",
       "      <td>70</td>\n",
       "      <td>data/train/ffcc8532d76436fc79e50eb2e5238e45.jpg</td>\n",
       "    </tr>\n",
       "    <tr>\n",
       "      <th>9853</th>\n",
       "      <td>ffdf2e8673a1da6fb80342fa3b119a20</td>\n",
       "      <td>20</td>\n",
       "      <td>data/train/ffdf2e8673a1da6fb80342fa3b119a20.jpg</td>\n",
       "    </tr>\n",
       "    <tr>\n",
       "      <th>9854</th>\n",
       "      <td>fff19e2ce11718548fa1c5d039a5192a</td>\n",
       "      <td>20</td>\n",
       "      <td>data/train/fff19e2ce11718548fa1c5d039a5192a.jpg</td>\n",
       "    </tr>\n",
       "    <tr>\n",
       "      <th>9855</th>\n",
       "      <td>fff8e47c766799c9e12f3cb3d66ad228</td>\n",
       "      <td>30</td>\n",
       "      <td>data/train/fff8e47c766799c9e12f3cb3d66ad228.jpg</td>\n",
       "    </tr>\n",
       "  </tbody>\n",
       "</table>\n",
       "<p>9856 rows × 3 columns</p>\n",
       "</div>"
      ],
      "text/plain": [
       "                                    Id  Pawpularity  \\\n",
       "0     0007de18844b0dbbb5e1f607da0606e0           63   \n",
       "1     0009c66b9439883ba2750fb825e1d7db           42   \n",
       "2     0013fd999caf9a3efe1352ca1b0d937e           28   \n",
       "3     0018df346ac9c1d8413cfcc888ca8246           15   \n",
       "4     001dc955e10590d3ca4673f034feeef2           72   \n",
       "...                                ...          ...   \n",
       "9851  ffbfa0383c34dc513c95560d6e1fdb57           15   \n",
       "9852  ffcc8532d76436fc79e50eb2e5238e45           70   \n",
       "9853  ffdf2e8673a1da6fb80342fa3b119a20           20   \n",
       "9854  fff19e2ce11718548fa1c5d039a5192a           20   \n",
       "9855  fff8e47c766799c9e12f3cb3d66ad228           30   \n",
       "\n",
       "                                                 path  \n",
       "0     data/train/0007de18844b0dbbb5e1f607da0606e0.jpg  \n",
       "1     data/train/0009c66b9439883ba2750fb825e1d7db.jpg  \n",
       "2     data/train/0013fd999caf9a3efe1352ca1b0d937e.jpg  \n",
       "3     data/train/0018df346ac9c1d8413cfcc888ca8246.jpg  \n",
       "4     data/train/001dc955e10590d3ca4673f034feeef2.jpg  \n",
       "...                                               ...  \n",
       "9851  data/train/ffbfa0383c34dc513c95560d6e1fdb57.jpg  \n",
       "9852  data/train/ffcc8532d76436fc79e50eb2e5238e45.jpg  \n",
       "9853  data/train/ffdf2e8673a1da6fb80342fa3b119a20.jpg  \n",
       "9854  data/train/fff19e2ce11718548fa1c5d039a5192a.jpg  \n",
       "9855  data/train/fff8e47c766799c9e12f3cb3d66ad228.jpg  \n",
       "\n",
       "[9856 rows x 3 columns]"
      ]
     },
     "execution_count": 2,
     "metadata": {},
     "output_type": "execute_result"
    }
   ],
   "source": [
    "df = pd.read_csv('train_2_0.csv')\n",
    "df2 = df.drop(df.columns[1:-2],axis=1)\n",
    "df2"
   ]
  },
  {
   "cell_type": "code",
   "execution_count": 14,
   "id": "24ca1719-1e7a-4b30-b9df-9ba1ddbbb726",
   "metadata": {},
   "outputs": [],
   "source": [
    "#переводит изображение в тензор\n",
    "# path - путь к изображению\n",
    "# img_w - выходная ширина изображения\n",
    "# img_h - выходная высота изображения\n",
    "def prep_image(path, img_w, img_h):\n",
    "    orig_img = tf.io.read_file(path)\n",
    "    img = tf.image.decode_jpeg(orig_img, channels=3)\n",
    "    img = tf.cast(img, dtype=tf.float32) / 255.0\n",
    "    img = tf.image.resize(img, (img_w, img_h))\n",
    "    return img"
   ]
  },
  {
   "cell_type": "code",
   "execution_count": null,
   "id": "2803ec76-ecea-41a8-94e9-20ddf8a2b7f3",
   "metadata": {},
   "outputs": [],
   "source": [
    "example_image = plt.imread(df2['path'][0])\n",
    "plt.title('Изображение до обработки')\n",
    "plt.imshow(example_image)\n",
    "print(example_image.shape)"
   ]
  },
  {
   "cell_type": "code",
   "execution_count": null,
   "id": "b125cdab-0611-4e65-98c9-8b0ae684de10",
   "metadata": {},
   "outputs": [],
   "source": [
    "prep_example_img = prep_image(df2['path'][0], 128,128)\n",
    "plt.title('после обработки')\n",
    "plt.imshow(prep_example_img)\n",
    "print(prep_example_img.shape)"
   ]
  },
  {
   "cell_type": "code",
   "execution_count": null,
   "id": "071505df-dd82-4083-9e3c-a3c14dc1495c",
   "metadata": {},
   "outputs": [],
   "source": [
    "paths = df2.path\n",
    "X = np.array([prep_image(p, 128, 128) for p in paths])\n",
    "print(X.shape)"
   ]
  },
  {
   "cell_type": "code",
   "execution_count": null,
   "id": "613fcf84-7413-4d7b-a684-72f0ea5dc395",
   "metadata": {},
   "outputs": [],
   "source": [
    "fig,ax = plt.subplots(1,5, figsize=(15,15))\n",
    "for i in range(5):\n",
    "    img=plt.imread(df.path[i])\n",
    "    ax[i].imshow(img)\n",
    "    ax[i].set_title(f\"Популярность: {df.Pawpularity[i]}\")\n",
    "    ax[i].set_xlabel(img.shape)\n"
   ]
  },
  {
   "cell_type": "code",
   "execution_count": null,
   "id": "118c2a75-97e0-4f41-a16f-eecfb6409fb9",
   "metadata": {},
   "outputs": [],
   "source": [
    "fig,ax = plt.subplots(1,5, figsize=(15,15))\n",
    "for i in range(5):\n",
    "    ax[i].imshow(X[i])\n",
    "    ax[i].set_title(f\"Популярность: {df.Pawpularity[i]}\")\n",
    "    ax[i].set_xlabel(X[i].shape)\n"
   ]
  },
  {
   "cell_type": "code",
   "execution_count": 3,
   "id": "1424cd70-9992-455b-b62b-16d1f8ce48fc",
   "metadata": {},
   "outputs": [],
   "source": [
    "#np.save(file='X', arr=X)\n",
    "#with tf.device(\"CPU\"):\n",
    "X = np.load('X.npy')\n",
    "Y = df2.Pawpularity / 100\n"
   ]
  },
  {
   "cell_type": "code",
   "execution_count": null,
   "id": "03b1daf4-67e8-4ba3-9faa-4cd53cc5ae2a",
   "metadata": {},
   "outputs": [],
   "source": []
  },
  {
   "cell_type": "code",
   "execution_count": 4,
   "id": "d6b4320a-be8b-4198-a928-7aa75072e159",
   "metadata": {},
   "outputs": [],
   "source": [
    "\n",
    "X_train, X_test, Y_train, Y_test = train_test_split(X, Y, test_size=0.1, random_state=0) "
   ]
  },
  {
   "cell_type": "code",
   "execution_count": 5,
   "id": "78452e77-104e-4556-9681-c4e7c6958547",
   "metadata": {},
   "outputs": [
    {
     "name": "stdout",
     "output_type": "stream",
     "text": [
      "(8870, 128, 128, 3)\n",
      "(8870,)\n",
      "(986, 128, 128, 3)\n",
      "(986,)\n"
     ]
    }
   ],
   "source": [
    "print(X_train.shape)\n",
    "print(Y_train.shape)\n",
    "print(X_test.shape)\n",
    "print(Y_test.shape)\n"
   ]
  },
  {
   "cell_type": "code",
   "execution_count": 6,
   "id": "0f388afa-0919-4637-9a23-c38e67d1cb61",
   "metadata": {},
   "outputs": [],
   "source": [
    "from keras import Sequential\n",
    "from keras.layers import Dense, Conv2D, MaxPooling2D, BatchNormalization, Dropout, Flatten, InputLayer"
   ]
  },
  {
   "cell_type": "markdown",
   "id": "f226aa6c-0c37-41e1-8645-1fce1d2c64a5",
   "metadata": {},
   "source": [
    "## Первая модель"
   ]
  },
  {
   "cell_type": "code",
   "execution_count": 7,
   "id": "8fdfbf2e-c387-404a-a3f9-39cb0a22715a",
   "metadata": {},
   "outputs": [],
   "source": [
    "model11 = Sequential(layers=[\n",
    "    InputLayer(input_shape=(X_train.shape[1],X_train.shape[2], X_train.shape[3])),\n",
    "    Conv2D(32, (4,4), padding='same',activation='relu'),\n",
    "    MaxPooling2D(padding='same'),\n",
    "    Conv2D(64, (4,4), padding='same',activation='relu'),\n",
    "    # MaxPooling2D(padding='same'),\n",
    "    # Conv2D(128, (2,2), padding='same',activation='relu'),\n",
    "    Flatten(),\n",
    "    Dense(128, activation='relu'),\n",
    "    Dropout(0.25),\n",
    "    Dense(1)\n",
    "],\n",
    "name='cnn.1'\n",
    ")"
   ]
  },
  {
   "cell_type": "code",
   "execution_count": 8,
   "id": "d1a98afb-76d1-44c6-935b-bbccfd1f9e54",
   "metadata": {},
   "outputs": [
    {
     "name": "stdout",
     "output_type": "stream",
     "text": [
      "Model: \"cnn.1\"\n",
      "_________________________________________________________________\n",
      " Layer (type)                Output Shape              Param #   \n",
      "=================================================================\n",
      " conv2d (Conv2D)             (None, 128, 128, 32)      1568      \n",
      "                                                                 \n",
      " max_pooling2d (MaxPooling2D  (None, 64, 64, 32)       0         \n",
      " )                                                               \n",
      "                                                                 \n",
      " conv2d_1 (Conv2D)           (None, 64, 64, 64)        32832     \n",
      "                                                                 \n",
      " flatten (Flatten)           (None, 262144)            0         \n",
      "                                                                 \n",
      " dense (Dense)               (None, 128)               33554560  \n",
      "                                                                 \n",
      " dropout (Dropout)           (None, 128)               0         \n",
      "                                                                 \n",
      " dense_1 (Dense)             (None, 1)                 129       \n",
      "                                                                 \n",
      "=================================================================\n",
      "Total params: 33,589,089\n",
      "Trainable params: 33,589,089\n",
      "Non-trainable params: 0\n",
      "_________________________________________________________________\n"
     ]
    }
   ],
   "source": [
    "model11.summary()"
   ]
  },
  {
   "cell_type": "code",
   "execution_count": 9,
   "id": "27629f67-a461-4b91-8a2f-43f3f96e92cf",
   "metadata": {},
   "outputs": [],
   "source": [
    "model11.compile(optimizer='adam', loss=keras.losses.mean_squared_error, metrics=[keras.metrics.mean_absolute_error, \n",
    "                                                                                keras.metrics.RootMeanSquaredError(),\n",
    "                                                                                ])"
   ]
  },
  {
   "cell_type": "code",
   "execution_count": null,
   "id": "cbe70f8a-593c-4041-aa81-07c47b9735a5",
   "metadata": {},
   "outputs": [
    {
     "name": "stdout",
     "output_type": "stream",
     "text": [
      "Epoch 1/25\n"
     ]
    }
   ],
   "source": [
    "#with tf.devices('CPU'):\n",
    "history1 = model11.fit(\n",
    "                         X_train,\n",
    "                         Y_train,\n",
    "                         epochs=25,\n",
    "                         verbose=1,\n",
    "                         validation_split=0.2,\n",
    "                         batch_size=16,\n",
    "                         )"
   ]
  },
  {
   "cell_type": "code",
   "execution_count": 16,
   "id": "ea04aec2-7502-4810-a1b9-898b5115aa48",
   "metadata": {},
   "outputs": [
    {
     "data": {
      "image/png": "[encoded data removed]",
      "text/plain": [
       "<Figure size 640x480 with 1 Axes>"
      ]
     },
     "metadata": {},
     "output_type": "display_data"
    }
   ],
   "source": [
    "# summarize history for loss\n",
    "plt.plot(history1.history['loss'])\n",
    "plt.plot(history1.history['val_loss'])\n",
    "plt.title('model loss')\n",
    "plt.ylabel('loss')\n",
    "plt.xlabel('epoch')\n",
    "plt.legend(['train', 'val'], loc='upper left')\n",
    "plt.show()"
   ]
  },
  {
   "cell_type": "code",
   "execution_count": 17,
   "id": "d5ab56cd-f589-4e98-9543-597ef7614931",
   "metadata": {},
   "outputs": [
    {
     "data": {
      "image/png": "[encoded data removed]",
      "text/plain": [
       "<Figure size 640x480 with 1 Axes>"
      ]
     },
     "metadata": {},
     "output_type": "display_data"
    }
   ],
   "source": [
    "# summarize history for loss\n",
    "plt.plot(history1.history['root_mean_squared_error'])\n",
    "plt.plot(history1.history['val_root_mean_squared_error'])\n",
    "plt.title('model rmse')\n",
    "plt.ylabel('RMSE')\n",
    "plt.xlabel('epoch')\n",
    "plt.legend(['train', 'val'], loc='upper left')\n",
    "plt.show()"
   ]
  },
  {
   "cell_type": "code",
   "execution_count": 19,
   "id": "135e3063-d9b1-4a90-bcb8-fe0eb814e0e1",
   "metadata": {},
   "outputs": [
    {
     "data": {
      "text/plain": [
       "2754"
      ]
     },
     "execution_count": 19,
     "metadata": {},
     "output_type": "execute_result"
    }
   ],
   "source": [
    "import gc \n",
    "gc.collect()"
   ]
  },
  {
   "cell_type": "code",
   "execution_count": 31,
   "id": "b77c1718-844b-4cba-8fe8-97b4ee3a0e17",
   "metadata": {},
   "outputs": [
    {
     "name": "stdout",
     "output_type": "stream",
     "text": [
      "247/247 [==============================] - 22s 87ms/step - loss: 0.0164 - mean_absolute_error: 0.0841 - root_mean_squared_error: 0.1279\n",
      "62/62 [==============================] - 5s 85ms/step - loss: 0.0508 - mean_absolute_error: 0.1671 - root_mean_squared_error: 0.2254\n"
     ]
    }
   ],
   "source": [
    "with tf.device('CPU'):\n",
    "    model11.evaluate(X_train, Y_train)\n",
    "    model11.evaluate(X_test, Y_test)"
   ]
  },
  {
   "cell_type": "code",
   "execution_count": 21,
   "id": "2d21e541-aba2-4a2d-af4a-cfb8cbf18e78",
   "metadata": {},
   "outputs": [
    {
     "name": "stdout",
     "output_type": "stream",
     "text": [
      "62/62 [==============================] - 6s 89ms/step\n"
     ]
    }
   ],
   "source": [
    "with tf.device('CPU'):\n",
    "    pred1=model11.predict(X_test)"
   ]
  },
  {
   "cell_type": "code",
   "execution_count": 22,
   "id": "e414a2f7-f345-480f-af50-7f089ce25ce4",
   "metadata": {},
   "outputs": [
    {
     "data": {
      "text/plain": [
       "array([[0.31090122],\n",
       "       [0.2928108 ],\n",
       "       [0.37977618],\n",
       "       ...,\n",
       "       [0.2825635 ],\n",
       "       [0.24148156],\n",
       "       [0.548228  ]], dtype=float32)"
      ]
     },
     "execution_count": 22,
     "metadata": {},
     "output_type": "execute_result"
    }
   ],
   "source": [
    "pred1"
   ]
  },
  {
   "cell_type": "code",
   "execution_count": 23,
   "id": "3068b240-7e32-4322-9903-dca453096757",
   "metadata": {},
   "outputs": [],
   "source": [
    "df_res = pd.DataFrame(data=Y_test)\n",
    "df_res['model1_pred'] = pred1"
   ]
  },
  {
   "cell_type": "code",
   "execution_count": 24,
   "id": "ad1f4225-e29d-40e3-9d8d-6a64d350a67b",
   "metadata": {},
   "outputs": [
    {
     "data": {
      "text/html": [
       "<div>\n",
       "<style scoped>\n",
       "    .dataframe tbody tr th:only-of-type {\n",
       "        vertical-align: middle;\n",
       "    }\n",
       "\n",
       "    .dataframe tbody tr th {\n",
       "        vertical-align: top;\n",
       "    }\n",
       "\n",
       "    .dataframe thead th {\n",
       "        text-align: right;\n",
       "    }\n",
       "</style>\n",
       "<table border=\"1\" class=\"dataframe\">\n",
       "  <thead>\n",
       "    <tr style=\"text-align: right;\">\n",
       "      <th></th>\n",
       "      <th>Pawpularity</th>\n",
       "      <th>model1_pred</th>\n",
       "    </tr>\n",
       "  </thead>\n",
       "  <tbody>\n",
       "    <tr>\n",
       "      <th>3239</th>\n",
       "      <td>0.02</td>\n",
       "      <td>0.310901</td>\n",
       "    </tr>\n",
       "    <tr>\n",
       "      <th>7035</th>\n",
       "      <td>0.22</td>\n",
       "      <td>0.292811</td>\n",
       "    </tr>\n",
       "    <tr>\n",
       "      <th>600</th>\n",
       "      <td>0.31</td>\n",
       "      <td>0.379776</td>\n",
       "    </tr>\n",
       "    <tr>\n",
       "      <th>5098</th>\n",
       "      <td>0.59</td>\n",
       "      <td>0.290146</td>\n",
       "    </tr>\n",
       "    <tr>\n",
       "      <th>9631</th>\n",
       "      <td>0.45</td>\n",
       "      <td>0.506704</td>\n",
       "    </tr>\n",
       "    <tr>\n",
       "      <th>...</th>\n",
       "      <td>...</td>\n",
       "      <td>...</td>\n",
       "    </tr>\n",
       "    <tr>\n",
       "      <th>5520</th>\n",
       "      <td>0.27</td>\n",
       "      <td>0.295741</td>\n",
       "    </tr>\n",
       "    <tr>\n",
       "      <th>2670</th>\n",
       "      <td>0.75</td>\n",
       "      <td>0.323444</td>\n",
       "    </tr>\n",
       "    <tr>\n",
       "      <th>2256</th>\n",
       "      <td>0.22</td>\n",
       "      <td>0.282564</td>\n",
       "    </tr>\n",
       "    <tr>\n",
       "      <th>2722</th>\n",
       "      <td>0.16</td>\n",
       "      <td>0.241482</td>\n",
       "    </tr>\n",
       "    <tr>\n",
       "      <th>5720</th>\n",
       "      <td>0.20</td>\n",
       "      <td>0.548228</td>\n",
       "    </tr>\n",
       "  </tbody>\n",
       "</table>\n",
       "<p>1972 rows × 2 columns</p>\n",
       "</div>"
      ],
      "text/plain": [
       "      Pawpularity  model1_pred\n",
       "3239         0.02     0.310901\n",
       "7035         0.22     0.292811\n",
       "600          0.31     0.379776\n",
       "5098         0.59     0.290146\n",
       "9631         0.45     0.506704\n",
       "...           ...          ...\n",
       "5520         0.27     0.295741\n",
       "2670         0.75     0.323444\n",
       "2256         0.22     0.282564\n",
       "2722         0.16     0.241482\n",
       "5720         0.20     0.548228\n",
       "\n",
       "[1972 rows x 2 columns]"
      ]
     },
     "execution_count": 24,
     "metadata": {},
     "output_type": "execute_result"
    }
   ],
   "source": [
    "df_res"
   ]
  },
  {
   "cell_type": "code",
   "execution_count": 30,
   "id": "3ffdf278-bfe8-4cce-a112-ee69a302d083",
   "metadata": {},
   "outputs": [
    {
     "data": {
      "text/plain": [
       "<Axes: xlabel='Pawpularity', ylabel='model1_pred'>"
      ]
     },
     "execution_count": 30,
     "metadata": {},
     "output_type": "execute_result"
    },
    {
     "data": {
      "image/png": "[encoded data removed]",
      "text/plain": [
       "<Figure size 1500x800 with 1 Axes>"
      ]
     },
     "metadata": {},
     "output_type": "display_data"
    }
   ],
   "source": [
    "plt.figure(figsize=(15,8))\n",
    "sns.scatterplot(data=df_res, x=df_res['Pawpularity'], y=df_res['model1_pred'], markers=True)"
   ]
  },
  {
   "cell_type": "code",
   "execution_count": 33,
   "id": "d93ad0e5-3cf7-464c-a796-948e738ee4f2",
   "metadata": {},
   "outputs": [
    {
     "ename": "NameError",
     "evalue": "name 'model11' is not defined",
     "output_type": "error",
     "traceback": [
      "\u001b[1;31m---------------------------------------------------------------------------\u001b[0m",
      "\u001b[1;31mNameError\u001b[0m                                 Traceback (most recent call last)",
      "Cell \u001b[1;32mIn[33], line 1\u001b[0m\n\u001b[1;32m----> 1\u001b[0m \u001b[38;5;28;01mdel\u001b[39;00m model11\n",
      "\u001b[1;31mNameError\u001b[0m: name 'model11' is not defined"
     ]
    }
   ],
   "source": [
    "del model11"
   ]
  },
  {
   "cell_type": "code",
   "execution_count": 35,
   "id": "b2e10e3b-0bfc-46ae-91a9-7e1e7bd7d4f9",
   "metadata": {},
   "outputs": [
    {
     "data": {
      "text/plain": [
       "0"
      ]
     },
     "execution_count": 35,
     "metadata": {},
     "output_type": "execute_result"
    }
   ],
   "source": [
    "gc.collect()"
   ]
  },
  {
   "cell_type": "markdown",
   "id": "701d4cff-d377-4782-8001-68ad11af3bf7",
   "metadata": {},
   "source": [
    "## Вторая модель"
   ]
  },
  {
   "cell_type": "code",
   "execution_count": null,
   "id": "c28e1d77-053f-4030-bdfa-a393bbc3fce1",
   "metadata": {},
   "outputs": [],
   "source": [
    "model2 = Sequential(\n",
    "    \n",
    ")"
   ]
  },
  {
   "cell_type": "code",
   "execution_count": null,
   "id": "3d016aaa-622c-4218-a842-e6e44deefb4a",
   "metadata": {},
   "outputs": [],
   "source": []
  },
  {
   "cell_type": "code",
   "execution_count": null,
   "id": "cbd77462-b569-4666-a68c-a506a7401bcc",
   "metadata": {},
   "outputs": [],
   "source": []
  },
  {
   "cell_type": "code",
   "execution_count": null,
   "id": "98695c3a-d4ae-4c5d-afd1-22d4eac890f6",
   "metadata": {},
   "outputs": [],
   "source": []
  },
  {
   "cell_type": "code",
   "execution_count": null,
   "id": "2a14f145-2b24-412d-be7e-938ff58b79cd",
   "metadata": {},
   "outputs": [],
   "source": []
  }
 ],
 "metadata": {
  "kernelspec": {
   "display_name": "Python 3 (ipykernel)",
   "language": "python",
   "name": "python3"
  },
  "language_info": {
   "codemirror_mode": {
    "name": "ipython",
    "version": 3
   },
   "file_extension": ".py",
   "mimetype": "text/x-python",
   "name": "python",
   "nbconvert_exporter": "python",
   "pygments_lexer": "ipython3",
   "version": "3.10.8"
  }
 },
 "nbformat": 4,
 "nbformat_minor": 5
}
